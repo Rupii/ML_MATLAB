{
 "cells": [
  {
   "cell_type": "markdown",
   "metadata": {},
   "source": [
    "# Octave ![octave](https://www.gnu.org/software/octave/img/octave-logo.svg)\n",
    "\n",
    "- Octave/MatLab is considered the most basic proto typing language for Implementing advanced mathematical algorithms\n",
    "- Octave/MatLab both these have similar syntax but matlab is more advanced and a bit costly, whereas octave is free\n",
    "\n",
    "\n",
    "another best progrramming for statistcal implemetation is R \n",
    "\n",
    "\n",
    "this jupyter notebook documentation is a quick refernce to the octave basic syntax, that you need to implement machine learning algorithms"
   ]
  },
  {
   "cell_type": "markdown",
   "metadata": {},
   "source": [
    "## basic Syntax"
   ]
  },
  {
   "cell_type": "code",
   "execution_count": 1,
   "metadata": {},
   "outputs": [
    {
     "name": "stdout",
     "output_type": "stream",
     "text": [
      "ans =  6\n",
      "ans =  64\n",
      "ans =  1.3333\n"
     ]
    }
   ],
   "source": [
    "# oferatrs\n",
    "3 + 3\n",
    "\n",
    "4 ^ 3\n",
    "\n",
    "4 /3 #give's the true division \n",
    "\n",
    "# all arthematics operator are as usual"
   ]
  },
  {
   "cell_type": "code",
   "execution_count": 2,
   "metadata": {
    "scrolled": true
   },
   "outputs": [
    {
     "name": "stdout",
     "output_type": "stream",
     "text": [
      "ans = 1\n",
      "ans = 1\n",
      "ans = 0\n"
     ]
    }
   ],
   "source": [
    "# logical operators\n",
    "1 && 1 %and\n",
    "\n",
    "1 || 0 % or\n",
    "\n",
    "xor(1, 1) %xor"
   ]
  },
  {
   "cell_type": "code",
   "execution_count": 3,
   "metadata": {},
   "outputs": [
    {
     "name": "stdout",
     "output_type": "stream",
     "text": [
      "ans = 0\n",
      "ans = 1\n"
     ]
    }
   ],
   "source": [
    "9 == 3 % ezuality \n",
    "\n",
    "1 ~= 3 % not equality\n"
   ]
  },
  {
   "cell_type": "markdown",
   "metadata": {},
   "source": [
    "string"
   ]
  },
  {
   "cell_type": "code",
   "execution_count": 4,
   "metadata": {},
   "outputs": [
    {
     "name": "stdout",
     "output_type": "stream",
     "text": [
      "Rupesh\n"
     ]
    }
   ],
   "source": [
    "string  = \"Rupesh\";  % semi colon can be used for storing the data and not printing it\n",
    "\n",
    "disp(string)"
   ]
  },
  {
   "cell_type": "code",
   "execution_count": 5,
   "metadata": {},
   "outputs": [
    {
     "name": "stdout",
     "output_type": "stream",
     "text": [
      "hello world it's Rupesh\n",
      "pi value is  3.14\n"
     ]
    }
   ],
   "source": [
    "disp(sprintf(\"hello world it's %s\", \"Rupesh\"))\n",
    "\n",
    "# disp is used to diplay and varible\n",
    "\n",
    "disp(sprintf(\"pi value is  %0.2f\", pi))\n",
    "\n",
    "# if you are familiar to c for priting the c format printf we can use sprintf for c type printing"
   ]
  },
  {
   "cell_type": "markdown",
   "metadata": {},
   "source": [
    "you can use both # and % for commenting"
   ]
  },
  {
   "cell_type": "markdown",
   "metadata": {
    "collapsed": true
   },
   "source": [
    "# Matrixs and vectors"
   ]
  },
  {
   "cell_type": "code",
   "execution_count": 6,
   "metadata": {
    "scrolled": true
   },
   "outputs": [
    {
     "name": "stdout",
     "output_type": "stream",
     "text": [
      "row =\n",
      "\n",
      "   1   2   3   4   5\n",
      "\n",
      "col =\n",
      "\n",
      "   1\n",
      "   2\n",
      "   3\n",
      "   4\n",
      "   5\n",
      "\n",
      "ans =  55\n",
      "ans =  55\n",
      "ans =\n",
      "\n",
      "    1    2    3    4    5\n",
      "    2    4    6    8   10\n",
      "    3    6    9   12   15\n",
      "    4    8   12   16   20\n",
      "    5   10   15   20   25\n",
      "\n"
     ]
    }
   ],
   "source": [
    "row = [1 2 3 4 5] % row vector 1 X 5\n",
    "col = [1; 2; 3; 4; 5] %column vector 5 X 1\n",
    "\n",
    "# dot prodct \n",
    "row * col % method 1 ( or ) \n",
    "\n",
    "dot(row, col) % resulting is 1 X 1\n",
    "\n",
    "# for element wise matrix or vector operation use . before the operator\n",
    "row .*col %element wise multiplication"
   ]
  },
  {
   "cell_type": "code",
   "execution_count": 7,
   "metadata": {
    "scrolled": false
   },
   "outputs": [
    {
     "name": "stdout",
     "output_type": "stream",
     "text": [
      "mat =\n",
      "\n",
      "   1   2\n",
      "   3   4\n",
      "   5   6\n",
      "\n",
      "concat =\n",
      "\n",
      "   1\n",
      "   3\n",
      "   4\n",
      "\n",
      "concatinated =\n",
      "\n",
      "   1   2   1\n",
      "   3   4   3\n",
      "   5   6   4\n",
      "\n"
     ]
    }
   ],
   "source": [
    "mat = [1 2; 3 4; 5 6] %matrix\n",
    "\n",
    "concat = [1 ; 3; 4] \n",
    "\n",
    "concatinated = [mat concat] %concatinating the matrix"
   ]
  },
  {
   "cell_type": "code",
   "execution_count": 8,
   "metadata": {},
   "outputs": [
    {
     "name": "stdout",
     "output_type": "stream",
     "text": [
      "ans =\n",
      "\n",
      "   1\n",
      "   3\n",
      "   5\n",
      "   2\n",
      "   4\n",
      "   6\n",
      "   1\n",
      "   3\n",
      "   4\n",
      "\n"
     ]
    }
   ],
   "source": [
    "concatinated(:) %returns a vertically stacked mat elemets"
   ]
  },
  {
   "cell_type": "code",
   "execution_count": 9,
   "metadata": {},
   "outputs": [
    {
     "name": "stdout",
     "output_type": "stream",
     "text": [
      "ans =\n",
      "\n",
      "   1   2   1\n",
      "\n",
      "ans =\n",
      "\n",
      "   1\n",
      "   5\n",
      "\n"
     ]
    }
   ],
   "source": [
    "# indexing\n",
    "concatinated(1, :) %returns first row all the cols\n",
    "concatinated([1, 3], 1) %return elemets of 1, 3 rows with first col"
   ]
  },
  {
   "cell_type": "code",
   "execution_count": 10,
   "metadata": {
    "scrolled": true
   },
   "outputs": [
    {
     "name": "stdout",
     "output_type": "stream",
     "text": [
      "ans =\n",
      "\n",
      "Diagonal Matrix\n",
      "\n",
      "   1   0   0\n",
      "   0   1   0\n",
      "   0   0   1\n",
      "\n"
     ]
    }
   ],
   "source": [
    "eye(3) %identity matrix of n dimenstion"
   ]
  },
  {
   "cell_type": "code",
   "execution_count": 11,
   "metadata": {
    "scrolled": true
   },
   "outputs": [
    {
     "name": "stdout",
     "output_type": "stream",
     "text": [
      "A =\n",
      "\n",
      "   1   2\n",
      "   3   4\n",
      "\n",
      "ans =\n",
      "\n",
      "   0.00000   0.69315\n",
      "   1.09861   1.38629\n",
      "\n",
      "ans =\n",
      "\n",
      "    2.7183    7.3891\n",
      "   20.0855   54.5982\n",
      "\n",
      "ans =\n",
      "\n",
      "  -2.00000   1.00000\n",
      "   1.50000  -0.50000\n",
      "\n"
     ]
    }
   ],
   "source": [
    "A = [1 2; 3 4]\n",
    "log(A)\n",
    "exp(A)\n",
    "pinv(A) % inverse of A (sudo inverse)\n",
    "\n",
    "% sudo inverse just means if the matrix is not invertable it does the pusdo inverse"
   ]
  },
  {
   "cell_type": "code",
   "execution_count": 12,
   "metadata": {},
   "outputs": [
    {
     "name": "stdout",
     "output_type": "stream",
     "text": [
      "ans =\n",
      "\n",
      "  0  0\n",
      "  0  1\n",
      "\n"
     ]
    }
   ],
   "source": [
    "A > 3 % return boolean"
   ]
  },
  {
   "cell_type": "code",
   "execution_count": 13,
   "metadata": {},
   "outputs": [
    {
     "name": "stdout",
     "output_type": "stream",
     "text": [
      "ans =\n",
      "\n",
      "   4   6\n",
      "\n",
      "ans =\n",
      "\n",
      "   3   8\n",
      "\n",
      "ans =  24\n",
      "ans =\n",
      "\n",
      "   1   3\n",
      "   2   4\n",
      "\n"
     ]
    }
   ],
   "source": [
    "sum(A) %gives col wise sum\n",
    "prod(A) %col wise product\n",
    "prod(prod(A))\n",
    "A' % transpose"
   ]
  },
  {
   "cell_type": "code",
   "execution_count": 14,
   "metadata": {},
   "outputs": [
    {
     "name": "stdout",
     "output_type": "stream",
     "text": [
      "ans =\n",
      "\n",
      "   1   1   1\n",
      "   1   1   1\n",
      "\n"
     ]
    }
   ],
   "source": [
    "ones(2, 3) % specify the shape of the required size of matrix"
   ]
  },
  {
   "cell_type": "code",
   "execution_count": 15,
   "metadata": {},
   "outputs": [
    {
     "name": "stdout",
     "output_type": "stream",
     "text": [
      "ans =\n",
      "\n",
      "   0.25225   0.78393\n",
      "   0.19142   0.78164\n",
      "\n"
     ]
    }
   ],
   "source": [
    "rand(2, 2) % from random distribution"
   ]
  },
  {
   "cell_type": "code",
   "execution_count": 16,
   "metadata": {},
   "outputs": [
    {
     "name": "stdout",
     "output_type": "stream",
     "text": [
      "ans =\n",
      "\n",
      "   0.726179   2.188585   1.600255  -0.656342  -0.139739\n",
      "   0.533793   1.597031   0.492434   0.121239   0.064225\n",
      "   0.490981  -0.758961   0.158406  -1.625175  -1.130059\n",
      "   0.871611   0.476823  -1.659190  -0.850076  -0.405484\n",
      "\n"
     ]
    }
   ],
   "source": [
    "randn(4, 5) % draws random variables from a gaussian distrubtion"
   ]
  },
  {
   "cell_type": "code",
   "execution_count": 39,
   "metadata": {},
   "outputs": [
    {
     "data": {
      "image/png": "[encoded data removed]",
      "text/plain": [
       "<IPython.core.display.Image object>"
      ]
     },
     "metadata": {},
     "output_type": "display_data"
    }
   ],
   "source": [
    "% simple plot to show what a gaussian distribution is \n",
    "\n",
    "gauss = randn(1, 2000);\n",
    "hist(gauss, bins = 50, normed = true) % bins is a parameter for chosing no. of bins\n",
    "legend('Rupi' )\n",
    "xlabel(\"normal distribution\")\n"
   ]
  },
  {
   "cell_type": "markdown",
   "metadata": {},
   "source": [
    "# Loading the data"
   ]
  },
  {
   "cell_type": "code",
   "execution_count": 18,
   "metadata": {},
   "outputs": [
    {
     "name": "stdout",
     "output_type": "stream",
     "text": [
      "A =\n",
      "\n",
      "   1   2\n",
      "   3   4\n",
      "   5   6\n",
      "\n",
      "ans =\n",
      "\n",
      "   3   2\n",
      "\n",
      "ans =\n",
      "\n",
      "   1   2\n",
      "\n"
     ]
    }
   ],
   "source": [
    "A = [1 2; 3 4; 5 6]\n",
    "\n",
    "size(A) %size itself is a vector\n",
    "\n",
    "size(size(A))"
   ]
  },
  {
   "cell_type": "code",
   "execution_count": 19,
   "metadata": {},
   "outputs": [
    {
     "name": "stdout",
     "output_type": "stream",
     "text": [
      "ans =  3\n"
     ]
    }
   ],
   "source": [
    "length(A) % returns the highest dimension"
   ]
  },
  {
   "cell_type": "code",
   "execution_count": 20,
   "metadata": {},
   "outputs": [
    {
     "name": "stdout",
     "output_type": "stream",
     "text": [
      "error: load: unable to find file house.csv\n"
     ]
    }
   ],
   "source": [
    "# lading the data is simple a one line command in Octave\n",
    "# get to required directory and type command\n",
    "load house.csv\n",
    "\n",
    "%or load('house.csv')\n",
    "% and who command shows all variables in the environment"
   ]
  },
  {
   "cell_type": "markdown",
   "metadata": {},
   "source": [
    "# Control Statements"
   ]
  },
  {
   "cell_type": "code",
   "execution_count": 21,
   "metadata": {
    "scrolled": true
   },
   "outputs": [
    {
     "name": "stdout",
     "output_type": "stream",
     "text": [
      "v =\n",
      "\n",
      "   1\n",
      "   1\n",
      "   1\n",
      "   1\n",
      "   1\n",
      "   1\n",
      "   1\n",
      "   1\n",
      "   1\n",
      "   1\n",
      "\n",
      "      2\n",
      "      4\n",
      "      8\n",
      "     16\n",
      "     32\n",
      "     64\n",
      "    128\n",
      "    256\n",
      "    512\n",
      "   1024\n"
     ]
    }
   ],
   "source": [
    "# for loop\n",
    "v = ones(10, 1)\n",
    "\n",
    "\n",
    "for i = 1:10,\n",
    "    v(i) = 2^i;\n",
    "end;\n",
    "disp(v)"
   ]
  },
  {
   "cell_type": "code",
   "execution_count": 22,
   "metadata": {},
   "outputs": [
    {
     "name": "stdout",
     "output_type": "stream",
     "text": [
      "v =\n",
      "\n",
      "      2\n",
      "      8\n",
      "     24\n",
      "     64\n",
      "    160\n",
      "    384\n",
      "    896\n",
      "   2048\n",
      "   4608\n",
      "   1024\n",
      "\n"
     ]
    }
   ],
   "source": [
    "% While\n",
    "i = 1;\n",
    "\n",
    "while i < 10 ,\n",
    "    v(i) = v(i) *i;\n",
    "    i += 1;\n",
    "end;\n",
    "v"
   ]
  },
  {
   "cell_type": "code",
   "execution_count": 23,
   "metadata": {},
   "outputs": [
    {
     "name": "stdout",
     "output_type": "stream",
     "text": [
      "i =  10\n",
      "True\n"
     ]
    }
   ],
   "source": [
    "# if Else\n",
    "\n",
    "i = 10\n",
    "\n",
    "if(i == 10),\n",
    "    disp(\"True\");\n",
    "else,\n",
    "    disp(\"False\");\n",
    "end;\n",
    "\n"
   ]
  },
  {
   "cell_type": "markdown",
   "metadata": {},
   "source": [
    "for functions you need to save them in .m file\n",
    "\n",
    "function need a .m file for it search in path \n",
    "\n",
    "functions in octave can have more than one return value"
   ]
  },
  {
   "cell_type": "code",
   "execution_count": 24,
   "metadata": {},
   "outputs": [],
   "source": [
    "function [a, b] = square(x)\n",
    "    a = x ^2;\n",
    "    b = x ^3;\n",
    "    \n",
    "# you have save this in .m format and run \n"
   ]
  },
  {
   "cell_type": "markdown",
   "metadata": {},
   "source": [
    "# Thank You !\n",
    "that's all there is to it,this much should be enough for you to implement machine learning algorithms"
   ]
  },
  {
   "cell_type": "code",
   "execution_count": null,
   "metadata": {
    "collapsed": true
   },
   "outputs": [],
   "source": []
  }
 ],
 "metadata": {
  "kernelspec": {
   "display_name": "Octave",
   "language": "octave",
   "name": "octave"
  },
  "language_info": {
   "file_extension": ".m",
   "help_links": [
    {
     "text": "GNU Octave",
     "url": "https://www.gnu.org/software/octave/support.html"
    },
    {
     "text": "Octave Kernel",
     "url": "https://github.com/Calysto/octave_kernel"
    },
    {
     "text": "MetaKernel Magics",
     "url": "https://github.com/calysto/metakernel/blob/master/metakernel/magics/README.md"
    }
   ],
   "mimetype": "text/x-octave",
   "name": "octave",
   "version": "4.2.1"
  }
 },
 "nbformat": 4,
 "nbformat_minor": 2
}
